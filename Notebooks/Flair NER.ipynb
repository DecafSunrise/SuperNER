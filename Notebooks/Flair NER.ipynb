{
 "cells": [
  {
   "cell_type": "code",
   "execution_count": 60,
   "id": "b64cc83b",
   "metadata": {},
   "outputs": [],
   "source": [
    "from flair.nn import Classifier\n",
    "from flair.data import Sentence"
   ]
  },
  {
   "cell_type": "code",
   "execution_count": null,
   "id": "002dc328",
   "metadata": {},
   "outputs": [],
   "source": [
    "tagger = Classifier.load('ner')"
   ]
  },
  {
   "cell_type": "raw",
   "id": "7ada8d54",
   "metadata": {},
   "source": [
    "def FlairNER(text):\n",
    "    sentence = Sentence(text)\n",
    "    tagger.predict(sentence)\n",
    "    \n",
    "    return {idx: \n",
    "     {\"text\":label.data_point.text, \n",
    "      \"tag\":label.value, \n",
    "      \"Confidence\":label.score} for idx, label in enumerate(sentence.get_labels())}\n",
    "    "
   ]
  },
  {
   "cell_type": "code",
   "execution_count": 107,
   "id": "153e425b",
   "metadata": {},
   "outputs": [],
   "source": [
    "def FlairNER(text):\n",
    "    sentence = Sentence(text)\n",
    "    tagger.predict(sentence)\n",
    "    \n",
    "    return {idx: \n",
    "     {\"text\":entity.text, \n",
    "      \"tag\":entity.tag, \n",
    "      \"span\": (entity.start_position, entity.end_position),\n",
    "      \"confidence\":entity.score} for idx, entity in enumerate(sentence.get_spans('ner'))}\n",
    "    "
   ]
  },
  {
   "cell_type": "code",
   "execution_count": 108,
   "id": "fecdb545",
   "metadata": {},
   "outputs": [
    {
     "data": {
      "text/plain": [
       "{0: {'text': 'Nicolai Hartmann',\n",
       "  'tag': 'PER',\n",
       "  'span': (259, 275),\n",
       "  'Confidence': 0.9995934367179871}}"
      ]
     },
     "execution_count": 108,
     "metadata": {},
     "output_type": "execute_result"
    }
   ],
   "source": [
    "FlairNER(\"Philosophers often understand emergence as a claim about the etiology of a system's properties. An emergent property of a system, in this context, is one that is not a property of any component of that system, but is still a feature of the system as a whole. Nicolai Hartmann (1882–1950), one of the first modern philosophers to write on emergence, termed this a categorial novum (new category).\")"
   ]
  }
 ],
 "metadata": {
  "kernelspec": {
   "display_name": "nlp_swifter",
   "language": "python",
   "name": "nlp_swifter"
  },
  "language_info": {
   "codemirror_mode": {
    "name": "ipython",
    "version": 3
   },
   "file_extension": ".py",
   "mimetype": "text/x-python",
   "name": "python",
   "nbconvert_exporter": "python",
   "pygments_lexer": "ipython3",
   "version": "3.10.6"
  }
 },
 "nbformat": 4,
 "nbformat_minor": 5
}
