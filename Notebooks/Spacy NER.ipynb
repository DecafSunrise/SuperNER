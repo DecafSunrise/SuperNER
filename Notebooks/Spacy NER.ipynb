{
 "cells": [
  {
   "cell_type": "code",
   "execution_count": 4,
   "id": "0cbc519b",
   "metadata": {},
   "outputs": [],
   "source": [
    "import spacy\n",
    "nlp=spacy.load('en_core_web_sm')"
   ]
  },
  {
   "cell_type": "code",
   "execution_count": 6,
   "id": "d8543a80",
   "metadata": {},
   "outputs": [
    {
     "name": "stdout",
     "output_type": "stream",
     "text": [
      "Nicolai Hartmann 259 275 PERSON\n",
      "1882–1950 277 286 DATE\n",
      "one 289 292 CARDINAL\n",
      "first 300 305 ORDINAL\n"
     ]
    }
   ],
   "source": [
    "doc = nlp(sample_text)\n",
    "  \n",
    "for ent in doc.ents:\n",
    "    print(ent.text, ent.start_char, ent.end_char, ent.label_)"
   ]
  },
  {
   "cell_type": "code",
   "execution_count": 5,
   "id": "dc67962e",
   "metadata": {},
   "outputs": [],
   "source": [
    "sample_text = \"Philosophers often understand emergence as a claim about the etiology of a system's properties. An emergent property of a system, in this context, is one that is not a property of any component of that system, but is still a feature of the system as a whole. Nicolai Hartmann (1882–1950), one of the first modern philosophers to write on emergence, termed this a categorial novum (new category).\""
   ]
  },
  {
   "cell_type": "code",
   "execution_count": 12,
   "id": "0f2fd457",
   "metadata": {},
   "outputs": [],
   "source": [
    "def SpacyNER(text):\n",
    "    doc = nlp(text)\n",
    "    \n",
    "    return {idx: \n",
    "     {\"text\":ent.text, \n",
    "      \"tag\":ent.label_,\n",
    "      \"span\":(ent.start_char, ent.end_char)} for idx, ent in enumerate(doc.ents)}\n",
    "    "
   ]
  },
  {
   "cell_type": "code",
   "execution_count": 13,
   "id": "ecc38342",
   "metadata": {},
   "outputs": [
    {
     "data": {
      "text/plain": [
       "{0: {'text': 'Nicolai Hartmann', 'tag': 'PERSON', 'span': (259, 275)},\n",
       " 1: {'text': '1882–1950', 'tag': 'DATE', 'span': (277, 286)},\n",
       " 2: {'text': 'one', 'tag': 'CARDINAL', 'span': (289, 292)},\n",
       " 3: {'text': 'first', 'tag': 'ORDINAL', 'span': (300, 305)}}"
      ]
     },
     "execution_count": 13,
     "metadata": {},
     "output_type": "execute_result"
    }
   ],
   "source": [
    "SpacyNER(sample_text)"
   ]
  },
  {
   "cell_type": "code",
   "execution_count": null,
   "id": "cb17b6a1",
   "metadata": {},
   "outputs": [],
   "source": []
  }
 ],
 "metadata": {
  "kernelspec": {
   "display_name": "nlp_swifter",
   "language": "python",
   "name": "nlp_swifter"
  },
  "language_info": {
   "codemirror_mode": {
    "name": "ipython",
    "version": 3
   },
   "file_extension": ".py",
   "mimetype": "text/x-python",
   "name": "python",
   "nbconvert_exporter": "python",
   "pygments_lexer": "ipython3",
   "version": "3.10.6"
  }
 },
 "nbformat": 4,
 "nbformat_minor": 5
}
