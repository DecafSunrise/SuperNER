{
 "cells": [
  {
   "cell_type": "code",
   "execution_count": 17,
   "id": "28ffa12c",
   "metadata": {},
   "outputs": [],
   "source": [
    "import jsonify"
   ]
  },
  {
   "cell_type": "code",
   "execution_count": 1,
   "id": "dd5a1eb5",
   "metadata": {},
   "outputs": [],
   "source": [
    "import nltk\n",
    "from nltk.tokenize import word_tokenize\n",
    "from nltk import word_tokenize, pos_tag"
   ]
  },
  {
   "cell_type": "code",
   "execution_count": 2,
   "id": "b5adcb4d",
   "metadata": {},
   "outputs": [],
   "source": [
    "def reg_chunker(sent, expression):\n",
    "\n",
    "sent = pos_tag(word_tokenize(sent))\n",
    "cp = nltk.RegexpParser(expression)\n",
    "chunked = cp.parse(sent)\n",
    "\n",
    "for chunk in chunked.subtrees(filter=lambda t: t.label() == 'NP'):\n",
    "    print(chunk)"
   ]
  },
  {
   "cell_type": "code",
   "execution_count": 3,
   "id": "c28ab8fe",
   "metadata": {},
   "outputs": [],
   "source": [
    "raw = \"\"\"Elfie Caroline Huntington (December 1868 – 1949) was an American photographer from Springville, Utah. She was deaf as a result of childhood scarlet fever, and became involved in photography at age 24 as an apprentice to George Edward Anderson. She started a successful photography studio in Springville with fellow apprentice Joseph Daniel Bagley; they also traveled around Utah taking photographs. Huntington was known for taking pictures of everyday occurrences as well as dark, humorous photos.\"\"\""
   ]
  },
  {
   "cell_type": "code",
   "execution_count": 4,
   "id": "5d385403",
   "metadata": {},
   "outputs": [
    {
     "name": "stdout",
     "output_type": "stream",
     "text": [
      "(NP Elfie/NNP Caroline/NNP Huntington/NNP)\n",
      "(NP childhood/NN scarlet/NN fever/NN)\n",
      "(NP George/NNP Edward/NNP Anderson/NNP)\n",
      "(NP photography/NN studio/NN)\n",
      "(NP apprentice/NN Joseph/NNP Daniel/NNP Bagley/NNP)\n"
     ]
    }
   ],
   "source": [
    "# Chunk 1: Noun followed by Noun\n",
    "reg_chunker(raw, r'NP: {<NN.?>+<NN.?>}')"
   ]
  },
  {
   "cell_type": "code",
   "execution_count": null,
   "id": "8c70bd6f",
   "metadata": {},
   "outputs": [],
   "source": []
  },
  {
   "cell_type": "code",
   "execution_count": 5,
   "id": "4164ca23",
   "metadata": {},
   "outputs": [],
   "source": [
    "sent=raw\n",
    "expression = r'NP: {<NN.?>+<NN.?>}'"
   ]
  },
  {
   "cell_type": "code",
   "execution_count": 6,
   "id": "4d806d07",
   "metadata": {},
   "outputs": [
    {
     "name": "stdout",
     "output_type": "stream",
     "text": [
      "(NP Elfie/NNP Caroline/NNP Huntington/NNP)\n",
      "(NP childhood/NN scarlet/NN fever/NN)\n",
      "(NP George/NNP Edward/NNP Anderson/NNP)\n",
      "(NP photography/NN studio/NN)\n",
      "(NP apprentice/NN Joseph/NNP Daniel/NNP Bagley/NNP)\n"
     ]
    }
   ],
   "source": [
    "sent = pos_tag(word_tokenize(sent))\n",
    "cp = nltk.RegexpParser(expression)\n",
    "chunked = cp.parse(sent)\n",
    "\n",
    "for chunk in chunked.subtrees(filter=lambda t: t.label() == 'NP'):\n",
    "    print(chunk)"
   ]
  },
  {
   "cell_type": "code",
   "execution_count": null,
   "id": "e5e2f379",
   "metadata": {},
   "outputs": [],
   "source": []
  },
  {
   "cell_type": "code",
   "execution_count": 9,
   "id": "6f0cd34a",
   "metadata": {},
   "outputs": [
    {
     "data": {
      "text/plain": [
       "0                   [New York]\n",
       "1    [Washington, Bruce Wayne]\n",
       "Name: text, dtype: object"
      ]
     },
     "execution_count": 9,
     "metadata": {},
     "output_type": "execute_result"
    }
   ],
   "source": [
    "from nltk import word_tokenize, pos_tag, ne_chunk\n",
    "from nltk import RegexpParser\n",
    "from nltk import Tree\n",
    "import pandas as pd\n",
    "\n",
    "def get_continuous_chunks(text, chunk_func=ne_chunk):\n",
    "    chunked = chunk_func(pos_tag(word_tokenize(text)))\n",
    "    continuous_chunk = []\n",
    "    current_chunk = []\n",
    "\n",
    "    for subtree in chunked:\n",
    "        if type(subtree) == Tree:\n",
    "            current_chunk.append(\" \".join([token for token, pos in subtree.leaves()]))\n",
    "        elif current_chunk:\n",
    "            named_entity = \" \".join(current_chunk)\n",
    "            if named_entity not in continuous_chunk:\n",
    "                continuous_chunk.append(named_entity)\n",
    "                current_chunk = []\n",
    "        else:\n",
    "            continue\n",
    "\n",
    "    return continuous_chunk\n",
    "\n",
    "df = pd.DataFrame({'text':['This is a foo, bar sentence with New York city.', \n",
    "                           'Another bar foo Washington DC thingy with Bruce Wayne.']})\n",
    "\n",
    "df['text'].apply(lambda sent: get_continuous_chunks((sent)))"
   ]
  },
  {
   "cell_type": "code",
   "execution_count": 10,
   "id": "01824107",
   "metadata": {},
   "outputs": [
    {
     "data": {
      "text/html": [
       "<div>\n",
       "<style scoped>\n",
       "    .dataframe tbody tr th:only-of-type {\n",
       "        vertical-align: middle;\n",
       "    }\n",
       "\n",
       "    .dataframe tbody tr th {\n",
       "        vertical-align: top;\n",
       "    }\n",
       "\n",
       "    .dataframe thead th {\n",
       "        text-align: right;\n",
       "    }\n",
       "</style>\n",
       "<table border=\"1\" class=\"dataframe\">\n",
       "  <thead>\n",
       "    <tr style=\"text-align: right;\">\n",
       "      <th></th>\n",
       "      <th>text</th>\n",
       "    </tr>\n",
       "  </thead>\n",
       "  <tbody>\n",
       "    <tr>\n",
       "      <th>0</th>\n",
       "      <td>This is a foo, bar sentence with New York city.</td>\n",
       "    </tr>\n",
       "    <tr>\n",
       "      <th>1</th>\n",
       "      <td>Another bar foo Washington DC thingy with Bruc...</td>\n",
       "    </tr>\n",
       "  </tbody>\n",
       "</table>\n",
       "</div>"
      ],
      "text/plain": [
       "                                                text\n",
       "0    This is a foo, bar sentence with New York city.\n",
       "1  Another bar foo Washington DC thingy with Bruc..."
      ]
     },
     "execution_count": 10,
     "metadata": {},
     "output_type": "execute_result"
    }
   ],
   "source": [
    "df"
   ]
  },
  {
   "cell_type": "code",
   "execution_count": 11,
   "id": "0a417a74",
   "metadata": {},
   "outputs": [],
   "source": [
    "text = raw\n",
    "chunk_func=ne_chunk"
   ]
  },
  {
   "cell_type": "code",
   "execution_count": 12,
   "id": "e0e64d88",
   "metadata": {},
   "outputs": [],
   "source": [
    "chunked = chunk_func(pos_tag(word_tokenize(text)))\n",
    "continuous_chunk = []\n",
    "current_chunk = []\n",
    "\n",
    "for subtree in chunked:\n",
    "    if type(subtree) == Tree:\n",
    "        current_chunk.append(\" \".join([token for token, pos in subtree.leaves()]))\n",
    "    elif current_chunk:\n",
    "        named_entity = \" \".join(current_chunk)\n",
    "        if named_entity not in continuous_chunk:\n",
    "            continuous_chunk.append(named_entity)\n",
    "            current_chunk = []\n",
    "    else:\n",
    "        continue\n"
   ]
  },
  {
   "cell_type": "code",
   "execution_count": 13,
   "id": "7be84a06",
   "metadata": {},
   "outputs": [
    {
     "data": {
      "text/plain": [
       "['Elfie Caroline Huntington',\n",
       " 'American',\n",
       " 'Springville',\n",
       " 'Utah',\n",
       " 'George Edward Anderson',\n",
       " 'Springville Joseph Daniel Bagley',\n",
       " 'Huntington']"
      ]
     },
     "execution_count": 13,
     "metadata": {},
     "output_type": "execute_result"
    }
   ],
   "source": [
    "continuous_chunk"
   ]
  },
  {
   "cell_type": "code",
   "execution_count": 14,
   "id": "29a9699a",
   "metadata": {},
   "outputs": [],
   "source": [
    "from pprint import pprint"
   ]
  },
  {
   "cell_type": "code",
   "execution_count": 15,
   "id": "621be32e",
   "metadata": {},
   "outputs": [
    {
     "name": "stdout",
     "output_type": "stream",
     "text": [
      "('Elfie Caroline Huntington (December 1868 – 1949) was an American '\n",
      " 'photographer from Springville, Utah. She was deaf as a result of childhood '\n",
      " 'scarlet fever, and became involved in photography at age 24 as an apprentice '\n",
      " 'to George Edward Anderson. She started a successful photography studio in '\n",
      " 'Springville with fellow apprentice Joseph Daniel Bagley; they also traveled '\n",
      " 'around Utah taking photographs. Huntington was known for taking pictures of '\n",
      " 'everyday occurrences as well as dark, humorous photos.')\n"
     ]
    }
   ],
   "source": [
    "pprint(raw)"
   ]
  },
  {
   "cell_type": "code",
   "execution_count": null,
   "id": "aea5fb99",
   "metadata": {},
   "outputs": [],
   "source": []
  }
 ],
 "metadata": {
  "kernelspec": {
   "display_name": "nlp_swifter",
   "language": "python",
   "name": "nlp_swifter"
  },
  "language_info": {
   "codemirror_mode": {
    "name": "ipython",
    "version": 3
   },
   "file_extension": ".py",
   "mimetype": "text/x-python",
   "name": "python",
   "nbconvert_exporter": "python",
   "pygments_lexer": "ipython3",
   "version": "3.10.6"
  }
 },
 "nbformat": 4,
 "nbformat_minor": 5
}
