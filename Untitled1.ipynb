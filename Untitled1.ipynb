{
 "cells": [
  {
   "cell_type": "code",
   "execution_count": 1,
   "id": "81e43b08",
   "metadata": {},
   "outputs": [],
   "source": [
    "import requests\n",
    "import json"
   ]
  },
  {
   "cell_type": "code",
   "execution_count": 30,
   "id": "2a86b0bf",
   "metadata": {},
   "outputs": [],
   "source": [
    "sample_text = \"Are you, by any chance, wondering about giving yourself wings? You should listen to [Liz McFarland] sharing her experience building a Wonder Woman suit, and not just any – the Golden Eagle suit from Wonder Woman 1984, adorned with a giant pair of wings.\""
   ]
  },
  {
   "cell_type": "code",
   "execution_count": 31,
   "id": "6307e271",
   "metadata": {},
   "outputs": [
    {
     "name": "stdout",
     "output_type": "stream",
     "text": [
      "200\n",
      "{'0': {'span': [85, 98], 'tag': 'PERSON', 'text': 'Liz McFarland'}, '1': {'span': [134, 146], 'tag': 'ORG', 'text': 'Wonder Woman'}, '2': {'span': [199, 211], 'tag': 'ORG', 'text': 'Wonder Woman'}, '3': {'span': [212, 216], 'tag': 'DATE', 'text': '1984'}}\n"
     ]
    }
   ],
   "source": [
    "url = \"http://127.0.0.1:5000/spacy\"\n",
    "\n",
    "x = requests.get(url, json = {'data':sample_text})\n",
    "\n",
    "print(x.status_code)\n",
    "if x.status_code == 200:\n",
    "    response = json.loads(x.text)\n",
    "    print(response)"
   ]
  },
  {
   "cell_type": "code",
   "execution_count": 32,
   "id": "687b80e6",
   "metadata": {},
   "outputs": [
    {
     "name": "stdout",
     "output_type": "stream",
     "text": [
      "200\n",
      "{'0': {'confidence': 0.9323325157165527, 'span': [85, 98], 'tag': 'PER', 'text': 'Liz McFarland'}, '1': {'confidence': 0.7368820607662201, 'span': [134, 146], 'tag': 'MISC', 'text': 'Wonder Woman'}, '2': {'confidence': 0.7811878621578217, 'span': [176, 188], 'tag': 'MISC', 'text': 'Golden Eagle'}, '3': {'confidence': 0.665399432182312, 'span': [199, 211], 'tag': 'MISC', 'text': 'Wonder Woman'}}\n"
     ]
    }
   ],
   "source": [
    "url = \"http://127.0.0.1:5000/flair\"\n",
    "\n",
    "x = requests.get(url, json = {'data':sample_text})\n",
    "\n",
    "print(x.status_code)\n",
    "if x.status_code == 200:\n",
    "    response = json.loads(x.text)\n",
    "    print(response)"
   ]
  },
  {
   "cell_type": "code",
   "execution_count": null,
   "id": "99ea9e07",
   "metadata": {},
   "outputs": [],
   "source": []
  }
 ],
 "metadata": {
  "kernelspec": {
   "display_name": "nlp_swifter",
   "language": "python",
   "name": "nlp_swifter"
  },
  "language_info": {
   "codemirror_mode": {
    "name": "ipython",
    "version": 3
   },
   "file_extension": ".py",
   "mimetype": "text/x-python",
   "name": "python",
   "nbconvert_exporter": "python",
   "pygments_lexer": "ipython3",
   "version": "3.10.6"
  }
 },
 "nbformat": 4,
 "nbformat_minor": 5
}
