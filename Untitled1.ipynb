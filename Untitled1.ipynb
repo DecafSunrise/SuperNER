{
 "cells": [
  {
   "cell_type": "code",
   "execution_count": 1,
   "id": "a62393e8",
   "metadata": {},
   "outputs": [],
   "source": [
    "import requests"
   ]
  },
  {
   "cell_type": "code",
   "execution_count": 16,
   "id": "6fedf8fe",
   "metadata": {},
   "outputs": [],
   "source": [
    "import json"
   ]
  },
  {
   "cell_type": "code",
   "execution_count": 3,
   "id": "b948914d",
   "metadata": {},
   "outputs": [],
   "source": [
    "sample_text = \"Philosophers often understand emergence as a claim about the etiology of a system's properties. An emergent property of a system, in this context, is one that is not a property of any component of that system, but is still a feature of the system as a whole. Nicolai Hartmann (1882–1950), one of the first modern philosophers to write on emergence, termed this a categorial novum (new category).\""
   ]
  },
  {
   "cell_type": "code",
   "execution_count": 24,
   "id": "3544058c",
   "metadata": {},
   "outputs": [
    {
     "name": "stdout",
     "output_type": "stream",
     "text": [
      "200\n",
      "{'0': {'span': [259, 275], 'tag': 'PERSON', 'text': 'Nicolai Hartmann'}, '1': {'span': [277, 286], 'tag': 'DATE', 'text': '1882–1950'}, '2': {'span': [289, 292], 'tag': 'CARDINAL', 'text': 'one'}, '3': {'span': [300, 305], 'tag': 'ORDINAL', 'text': 'first'}}\n"
     ]
    }
   ],
   "source": [
    "url = \"http://127.0.0.1:5000/spacy\"\n",
    "\n",
    "x = requests.get(url, json = {'data':sample_text})\n",
    "\n",
    "print(x.status_code)\n",
    "if x.status_code == 200:\n",
    "    response = json.loads(x.text)\n",
    "    print(response)"
   ]
  },
  {
   "cell_type": "code",
   "execution_count": 23,
   "id": "655d9e24",
   "metadata": {},
   "outputs": [
    {
     "name": "stdout",
     "output_type": "stream",
     "text": [
      "200\n",
      "{'0': {'confidence': 0.9964825510978699, 'span': [259, 275], 'tag': 'PER', 'text': 'Nicolai Hartmann'}}\n"
     ]
    }
   ],
   "source": [
    "url = \"http://127.0.0.1:5000/flair\"\n",
    "\n",
    "x = requests.get(url, json = {'data':sample_text})\n",
    "\n",
    "print(x.status_code)\n",
    "if x.status_code == 200:\n",
    "    response = json.loads(x.text)\n",
    "    print(response)"
   ]
  },
  {
   "cell_type": "code",
   "execution_count": null,
   "id": "23bdf24b",
   "metadata": {},
   "outputs": [],
   "source": []
  }
 ],
 "metadata": {
  "kernelspec": {
   "display_name": "nlp_swifter",
   "language": "python",
   "name": "nlp_swifter"
  },
  "language_info": {
   "codemirror_mode": {
    "name": "ipython",
    "version": 3
   },
   "file_extension": ".py",
   "mimetype": "text/x-python",
   "name": "python",
   "nbconvert_exporter": "python",
   "pygments_lexer": "ipython3",
   "version": "3.10.6"
  }
 },
 "nbformat": 4,
 "nbformat_minor": 5
}
