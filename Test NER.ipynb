{
 "cells": [
  {
   "cell_type": "code",
   "execution_count": 8,
   "id": "dd5e3bdb",
   "metadata": {},
   "outputs": [
    {
     "data": {
      "text/html": [
       "<style>.container { width:100% !important; }</style>"
      ],
      "text/plain": [
       "<IPython.core.display.HTML object>"
      ]
     },
     "metadata": {},
     "output_type": "display_data"
    }
   ],
   "source": [
    "from IPython.display import display, HTML\n",
    "display(HTML(\"<style>.container { width:100% !important; }</style>\"))"
   ]
  },
  {
   "cell_type": "code",
   "execution_count": 1,
   "id": "f6723711",
   "metadata": {},
   "outputs": [],
   "source": [
    "import pandas as pd\n",
    "\n",
    "from tqdm import tqdm\n",
    "tqdm.pandas()"
   ]
  },
  {
   "cell_type": "code",
   "execution_count": 131,
   "id": "6b5c5eaf",
   "metadata": {},
   "outputs": [],
   "source": [
    "pd.set_option(\"max_colwidth\", 500)"
   ]
  },
  {
   "cell_type": "code",
   "execution_count": 14,
   "id": "1b26d1cf",
   "metadata": {},
   "outputs": [],
   "source": [
    "import uuid"
   ]
  },
  {
   "cell_type": "code",
   "execution_count": 2,
   "id": "10dea7c1",
   "metadata": {},
   "outputs": [
    {
     "data": {
      "application/vnd.jupyter.widget-view+json": {
       "model_id": "a561a74bc7124ae0b8f444c3a4364420",
       "version_major": 2,
       "version_minor": 0
      },
      "text/plain": [
       "Downloading pytorch_model.bin:   0%|          | 0.00/257M [00:00<?, ?B/s]"
      ]
     },
     "metadata": {},
     "output_type": "display_data"
    },
    {
     "name": "stderr",
     "output_type": "stream",
     "text": [
      "C:\\Users\\Danny\\.conda\\envs\\nlp_swifter\\lib\\site-packages\\huggingface_hub\\file_download.py:133: UserWarning: `huggingface_hub` cache-system uses symlinks by default to efficiently store duplicated files but your machine does not support them in C:\\Users\\Danny\\.flair\\models\\ner-english-fast. Caching files will still work but in a degraded version that might require more space on your disk. This warning can be disabled by setting the `HF_HUB_DISABLE_SYMLINKS_WARNING` environment variable. For more details, see https://huggingface.co/docs/huggingface_hub/how-to-cache#limitations.\n",
      "To support symlinks on Windows, you either need to activate Developer Mode or to run Python as an administrator. In order to see activate developer mode, see this article: https://docs.microsoft.com/en-us/windows/apps/get-started/enable-your-device-for-development\n",
      "  warnings.warn(message)\n"
     ]
    },
    {
     "name": "stdout",
     "output_type": "stream",
     "text": [
      "2023-06-14 20:13:08,188 SequenceTagger predicts: Dictionary with 20 tags: <unk>, O, S-ORG, S-MISC, B-PER, E-PER, S-LOC, B-ORG, E-ORG, I-PER, S-PER, B-MISC, I-MISC, E-MISC, I-ORG, B-LOC, E-LOC, I-LOC, <START>, <STOP>\n"
     ]
    }
   ],
   "source": [
    "from FlairNER import NER as FlairNER\n",
    "from SpacyNER import NER as SpacyNER"
   ]
  },
  {
   "cell_type": "code",
   "execution_count": 3,
   "id": "55c174b8",
   "metadata": {},
   "outputs": [],
   "source": [
    "df = pd.read_csv(r\"D:\\Work\\Data\\medium_articles.csv\", nrows=100)"
   ]
  },
  {
   "cell_type": "code",
   "execution_count": 4,
   "id": "5c081dde",
   "metadata": {
    "scrolled": true
   },
   "outputs": [
    {
     "name": "stderr",
     "output_type": "stream",
     "text": [
      "100%|████████████████████████████████████████████████████████████████████████████████| 100/100 [00:10<00:00,  9.38it/s]\n"
     ]
    }
   ],
   "source": [
    "df['spacy'] = df['text'].progress_apply(lambda x: SpacyNER(x))"
   ]
  },
  {
   "cell_type": "code",
   "execution_count": 5,
   "id": "c577ae3f",
   "metadata": {},
   "outputs": [
    {
     "name": "stderr",
     "output_type": "stream",
     "text": [
      "100%|████████████████████████████████████████████████████████████████████████████████| 100/100 [07:25<00:00,  4.45s/it]\n"
     ]
    }
   ],
   "source": [
    "df['flair'] = df['text'].progress_apply(lambda x: FlairNER(x))"
   ]
  },
  {
   "cell_type": "code",
   "execution_count": 17,
   "id": "e5379be4",
   "metadata": {},
   "outputs": [],
   "source": [
    "df['docid'] = [f\"doc://{str(uuid.uuid4())}\" for x in range(0, len(df))]"
   ]
  },
  {
   "cell_type": "code",
   "execution_count": 132,
   "id": "06297618",
   "metadata": {},
   "outputs": [
    {
     "data": {
      "text/html": [
       "<div>\n",
       "<style scoped>\n",
       "    .dataframe tbody tr th:only-of-type {\n",
       "        vertical-align: middle;\n",
       "    }\n",
       "\n",
       "    .dataframe tbody tr th {\n",
       "        vertical-align: top;\n",
       "    }\n",
       "\n",
       "    .dataframe thead th {\n",
       "        text-align: right;\n",
       "    }\n",
       "</style>\n",
       "<table border=\"1\" class=\"dataframe\">\n",
       "  <thead>\n",
       "    <tr style=\"text-align: right;\">\n",
       "      <th></th>\n",
       "      <th>docid</th>\n",
       "      <th>title</th>\n",
       "      <th>spacy</th>\n",
       "      <th>flair</th>\n",
       "    </tr>\n",
       "  </thead>\n",
       "  <tbody>\n",
       "    <tr>\n",
       "      <th>0</th>\n",
       "      <td>doc://712c0906-db60-4703-8152-f2c8a746bf21</td>\n",
       "      <td>Mental Note Vol. 24</td>\n",
       "      <td>{0: {'text': 'Josh Riemer', 'tag': 'PERSON', 'span': (9, 20)}, 1: {'text': 'Christmas', 'tag': 'DATE', 'span': (40, 49)}, 2: {'text': 'Happy Holidays', 'tag': 'ORG', 'span': (54, 68)}, 3: {'text': 'ten', 'tag': 'CARDINAL', 'span': (403, 406)}, 4: {'text': 'last week', 'tag': 'DATE', 'span': (431, 440)}, 5: {'text': 'one', 'tag': 'CARDINAL', 'span': (1431, 1434)}, 6: {'text': 'weeks', 'tag': 'DATE', 'span': (1639, 1644)}, 7: {'text': 'the day', 'tag': 'DATE', 'span': (1646, 1653)}, 8: {'text'...</td>\n",
       "      <td>{0: {'text': 'Josh Riemer', 'tag': 'PER', 'span': (9, 20), 'Confidence': 0.993099182844162}, 1: {'text': 'Unsplash  Merry Christmas', 'tag': 'MISC', 'span': (24, 49), 'Confidence': 0.7762616078058878}, 2: {'text': 'Happy Holidays', 'tag': 'MISC', 'span': (54, 68), 'Confidence': 0.542737603187561}, 3: {'text': 'Crappy Christmas', 'tag': 'MISC', 'span': (1915, 1931), 'Confidence': 0.7515084147453308}, 4: {'text': 'Merry Christmas', 'tag': 'MISC', 'span': (4934, 4949), 'Confidence': 0.702271133...</td>\n",
       "    </tr>\n",
       "    <tr>\n",
       "      <th>1</th>\n",
       "      <td>doc://142fbdea-86df-43dd-89b7-eeb18c521691</td>\n",
       "      <td>Your Brain On Coronavirus</td>\n",
       "      <td>{0: {'text': 'Pexels', 'tag': 'GPE', 'span': (126, 132)}, 1: {'text': 'months', 'tag': 'DATE', 'span': (230, 236)}, 2: {'text': 'Zoom', 'tag': 'WORK_OF_ART', 'span': (416, 420)}, 3: {'text': 'first', 'tag': 'ORDINAL', 'span': (455, 460)}, 4: {'text': 'ACE2', 'tag': 'ORG', 'span': (887, 891)}, 5: {'text': 'ACE2', 'tag': 'ORG', 'span': (1002, 1006)}, 6: {'text': 'many months', 'tag': 'DATE', 'span': (1304, 1315)}, 7: {'text': 'millions', 'tag': 'CARDINAL', 'span': (1658, 1666)}, 8: {'text': 'm...</td>\n",
       "      <td>{0: {'text': 'Zoom', 'tag': 'MISC', 'span': (416, 420), 'Confidence': 0.7776151299476624}, 1: {'text': 'COVID-19', 'tag': 'MISC', 'span': (2019, 2027), 'Confidence': 0.5918000340461731}, 2: {'text': 'New England Journal of Medicine', 'tag': 'ORG', 'span': (2949, 2980), 'Confidence': 0.8916181445121765}, 3: {'text': 'COVID-19', 'tag': 'MISC', 'span': (3106, 3114), 'Confidence': 0.6712064743041992}, 4: {'text': 'Jonathan Rados', 'tag': 'PER', 'span': (4468, 4482), 'Confidence': 0.9730952680110...</td>\n",
       "    </tr>\n",
       "    <tr>\n",
       "      <th>2</th>\n",
       "      <td>doc://a7096575-1745-483c-a3f5-deb681cdcea2</td>\n",
       "      <td>Mind Your Nose</td>\n",
       "      <td>{0: {'text': 'six weeks', 'tag': 'DATE', 'span': (60, 69)}, 1: {'text': 'Ann-Sophie Barwich', 'tag': 'ORG', 'span': (96, 114)}, 2: {'text': 'One', 'tag': 'CARDINAL', 'span': (892, 895)}, 3: {'text': 'every three to four weeks', 'tag': 'DATE', 'span': (1029, 1054)}, 4: {'text': 'first', 'tag': 'ORDINAL', 'span': (1391, 1396)}, 5: {'text': '70', 'tag': 'DATE', 'span': (1534, 1536)}, 6: {'text': 'Johannes Frasnelli', 'tag': 'ORG', 'span': (2317, 2335)}, 7: {'text': 'the University of Quebec', '...</td>\n",
       "      <td>{0: {'text': 'Johannes Frasnelli', 'tag': 'PER', 'span': (2317, 2335), 'Confidence': 0.9991422295570374}, 1: {'text': 'University of Quebec', 'tag': 'ORG', 'span': (2367, 2387), 'Confidence': 0.9919206301371256}, 2: {'text': 'Trois-Rivières', 'tag': 'LOC', 'span': (2391, 2405), 'Confidence': 0.9990032315254211}, 3: {'text': 'Frasnelli', 'tag': 'PER', 'span': (2672, 2681), 'Confidence': 0.9974936246871948}, 4: {'text': 'Frasnelli', 'tag': 'ORG', 'span': (3028, 3037), 'Confidence': 0.593892514...</td>\n",
       "    </tr>\n",
       "    <tr>\n",
       "      <th>3</th>\n",
       "      <td>doc://8fd4b3a0-a6e2-4763-81ff-5dc72d645ec6</td>\n",
       "      <td>The 4 Purposes of Dreams</td>\n",
       "      <td>{}</td>\n",
       "      <td>{}</td>\n",
       "    </tr>\n",
       "    <tr>\n",
       "      <th>4</th>\n",
       "      <td>doc://9e3e6dd6-2029-4009-8ccc-a4d34dabc8fe</td>\n",
       "      <td>Surviving a Rod Through the Head</td>\n",
       "      <td>{0: {'text': 'Phineas Gage', 'tag': 'ORG', 'span': (34, 46)}, 1: {'text': 'Cherry', 'tag': 'PERSON', 'span': (355, 361)}, 2: {'text': '1', 'tag': 'CARDINAL', 'span': (368, 369)}, 3: {'text': 'Phineas Gage', 'tag': 'ORG', 'span': (521, 533)}, 4: {'text': 'Phineas Gage', 'tag': 'ORG', 'span': (585, 597)}, 5: {'text': '25 years old', 'tag': 'DATE', 'span': (599, 611)}, 6: {'text': 'Vermont', 'tag': 'GPE', 'span': (638, 645)}, 7: {'text': 'One day', 'tag': 'DATE', 'span': (647, 654)}, 8: {'text'...</td>\n",
       "      <td>{0: {'text': 'Phineas Gage', 'tag': 'PER', 'span': (34, 46), 'Confidence': 0.9654072523117065}, 1: {'text': 'Cherry', 'tag': 'PER', 'span': (355, 361), 'Confidence': 0.9214642643928528}, 2: {'text': 'Phineas Gage', 'tag': 'PER', 'span': (521, 533), 'Confidence': 0.9703349173069}, 3: {'text': 'Phineas Gage', 'tag': 'PER', 'span': (585, 597), 'Confidence': 0.9975079596042633}, 4: {'text': 'Vermont', 'tag': 'LOC', 'span': (638, 645), 'Confidence': 0.9995617270469666}, 5: {'text': 'Cherry', 'tag...</td>\n",
       "    </tr>\n",
       "    <tr>\n",
       "      <th>...</th>\n",
       "      <td>...</td>\n",
       "      <td>...</td>\n",
       "      <td>...</td>\n",
       "      <td>...</td>\n",
       "    </tr>\n",
       "    <tr>\n",
       "      <th>95</th>\n",
       "      <td>doc://aeaacad5-3a50-4b65-9073-a30e98365d8d</td>\n",
       "      <td>“Holy”: Jamila Woods’s HEAVN Finds Spiritual Freedom in Solitude</td>\n",
       "      <td>{0: {'text': 'Jamila Woods', 'tag': 'PERSON', 'span': (627, 639)}, 1: {'text': 'HEAVN', 'tag': 'ORG', 'span': (733, 738)}, 2: {'text': 'Jamila Woods', 'tag': 'PERSON', 'span': (845, 857)}, 3: {'text': 'Jamila Woods', 'tag': 'PERSON', 'span': (895, 907)}, 4: {'text': 'Jamila', 'tag': 'GPE', 'span': (1053, 1059)}, 5: {'text': '2015', 'tag': 'DATE', 'span': (1078, 1082)}, 6: {'text': 'The Social Experiment', 'tag': 'ORG', 'span': (1112, 1133)}, 7: {'text': 'Sunday Candy', 'tag': 'WORK_OF_ART', ...</td>\n",
       "      <td>{0: {'text': 'Jamila Woods', 'tag': 'PER', 'span': (627, 639), 'Confidence': 0.9759255051612854}, 1: {'text': 'HEAVN', 'tag': 'MISC', 'span': (733, 738), 'Confidence': 0.6951485276222229}, 2: {'text': 'Jamila Woods', 'tag': 'PER', 'span': (845, 857), 'Confidence': 0.9878586530685425}, 3: {'text': 'Jamila Woods', 'tag': 'PER', 'span': (895, 907), 'Confidence': 0.9982866942882538}, 4: {'text': 'Jamila', 'tag': 'PER', 'span': (1053, 1059), 'Confidence': 0.999190628528595}, 5: {'text': '2015’s S...</td>\n",
       "    </tr>\n",
       "    <tr>\n",
       "      <th>96</th>\n",
       "      <td>doc://71a33289-a2ad-407c-acb7-4e20decf2bb9</td>\n",
       "      <td>How Google and Its Geeks Nudge Each Other to Sustainability</td>\n",
       "      <td>{0: {'text': 'Google', 'tag': 'ORG', 'span': (29, 35)}, 1: {'text': 'Silicon Valley', 'tag': 'LOC', 'span': (151, 165)}, 2: {'text': 'Googlers', 'tag': 'WORK_OF_ART', 'span': (383, 391)}, 3: {'text': 'Google', 'tag': 'ORG', 'span': (435, 441)}, 4: {'text': '2010', 'tag': 'DATE', 'span': (584, 588)}, 5: {'text': '20', 'tag': 'CARDINAL', 'span': (613, 615)}, 6: {'text': 'roughly 2.6 gigawatts', 'tag': 'QUANTITY', 'span': (639, 660)}, 7: {'text': '1.2 million', 'tag': 'CARDINAL', 'span': (687, ...</td>\n",
       "      <td>{0: {'text': 'Google', 'tag': 'ORG', 'span': (29, 35), 'Confidence': 0.9922983050346375}, 1: {'text': 'Silicon Valley', 'tag': 'LOC', 'span': (151, 165), 'Confidence': 0.8750839531421661}, 2: {'text': 'Google', 'tag': 'ORG', 'span': (435, 441), 'Confidence': 0.6305004358291626}, 3: {'text': 'Google', 'tag': 'ORG', 'span': (719, 725), 'Confidence': 0.9983640313148499}, 4: {'text': 'Google', 'tag': 'ORG', 'span': (922, 928), 'Confidence': 0.9812931418418884}, 5: {'text': 'Google', 'tag': 'ORG'...</td>\n",
       "    </tr>\n",
       "    <tr>\n",
       "      <th>97</th>\n",
       "      <td>doc://e35aa380-a2b5-4e17-9939-56ab28359527</td>\n",
       "      <td>J.K. Rowling’s Advice For Writers With Big Dreams</td>\n",
       "      <td>{0: {'text': 'J.K. Rowling’s Advice For Writers With Big Dreams', 'tag': 'ORG', 'span': (0, 49)}, 1: {'text': 'Rae Tian', 'tag': 'PERSON', 'span': (111, 119)}, 2: {'text': 'Unsplash\n",
       "\n",
       "J.K. Rowling', 'tag': 'ORG', 'span': (123, 145)}, 3: {'text': 'Harry Potter', 'tag': 'PERSON', 'span': (314, 326)}, 4: {'text': 'one', 'tag': 'CARDINAL', 'span': (696, 699)}, 5: {'text': 'British', 'tag': 'NORP', 'span': (760, 767)}, 6: {'text': 'first', 'tag': 'ORDINAL', 'span': (858, 863)}, 7: {'text': 'first'...</td>\n",
       "      <td>{0: {'text': 'Rae Tian', 'tag': 'PER', 'span': (111, 119), 'Confidence': 0.94908007979393}, 1: {'text': 'Unsplash  J.K', 'tag': 'PER', 'span': (123, 136), 'Confidence': 0.40452542901039124}, 2: {'text': 'Rowling', 'tag': 'PER', 'span': (138, 145), 'Confidence': 0.6746373772621155}, 3: {'text': 'Harry Potter', 'tag': 'PER', 'span': (314, 326), 'Confidence': 0.9656739830970764}, 4: {'text': 'Rubbish Out  Rowling', 'tag': 'MISC', 'span': (736, 756), 'Confidence': 0.8954297502835592}, 5: {'text'...</td>\n",
       "    </tr>\n",
       "    <tr>\n",
       "      <th>98</th>\n",
       "      <td>doc://4a42d3ce-4b5b-4a69-a4e1-a11b056048ac</td>\n",
       "      <td>F. Scott Fitzgerald on How to Write Masterful Dialogue</td>\n",
       "      <td>{0: {'text': 'September 22', 'tag': 'DATE', 'span': (0, 12)}, 1: {'text': 'the beginning of autumn', 'tag': 'DATE', 'span': (20, 43)}, 2: {'text': 'The Great Gatsby', 'tag': 'FAC', 'span': (93, 109)}, 3: {'text': 'Instagram', 'tag': 'ORG', 'span': (347, 356)}, 4: {'text': '107', 'tag': 'CARDINAL', 'span': (476, 479)}, 5: {'text': 'The Great Gatsby', 'tag': 'FAC', 'span': (497, 513)}, 6: {'text': 'Jordan', 'tag': 'PERSON', 'span': (558, 564)}, 7: {'text': 'Gatsby', 'tag': 'PERSON', 'span': (5...</td>\n",
       "      <td>{0: {'text': 'The Great Gatsby', 'tag': 'MISC', 'span': (93, 109), 'Confidence': 0.825523296991984}, 1: {'text': 'Life', 'tag': 'PER', 'span': (113, 117), 'Confidence': 0.395154744386673}, 2: {'text': 'Instagram', 'tag': 'MISC', 'span': (347, 356), 'Confidence': 0.8331667184829712}, 3: {'text': 'The Great Gatsby', 'tag': 'MISC', 'span': (497, 513), 'Confidence': 0.958313524723053}, 4: {'text': 'Jordan', 'tag': 'PER', 'span': (558, 564), 'Confidence': 0.9964123368263245}, 5: {'text': 'Gatsby'...</td>\n",
       "    </tr>\n",
       "    <tr>\n",
       "      <th>99</th>\n",
       "      <td>doc://140f45db-fab9-409e-8a46-d90fdc635325</td>\n",
       "      <td>How we helped streamline a mobile solutions company’s processes in a business-friendly way</td>\n",
       "      <td>{0: {'text': 'Kodan', 'tag': 'GPE', 'span': (119, 124)}, 1: {'text': 'Mesensei', 'tag': 'PERSON', 'span': (387, 395)}, 2: {'text': 'Mesensei', 'tag': 'EVENT', 'span': (433, 441)}, 3: {'text': 'Mesensei', 'tag': 'EVENT', 'span': (607, 615)}, 4: {'text': 'Kodan', 'tag': 'GPE', 'span': (881, 886)}, 5: {'text': 'Mesensei', 'tag': 'PERSON', 'span': (1017, 1025)}, 6: {'text': 'Mesensei', 'tag': 'PERSON', 'span': (1531, 1539)}, 7: {'text': 'the beginning of 2019', 'tag': 'DATE', 'span': (1648, 1669...</td>\n",
       "      <td>{0: {'text': 'Mesensei', 'tag': 'ORG', 'span': (0, 8), 'Confidence': 0.940836489200592}, 1: {'text': 'Kodan', 'tag': 'ORG', 'span': (119, 124), 'Confidence': 0.8538553714752197}, 2: {'text': 'Mesensei', 'tag': 'ORG', 'span': (387, 395), 'Confidence': 0.6263004541397095}, 3: {'text': 'Mesensei', 'tag': 'ORG', 'span': (433, 441), 'Confidence': 0.5203522443771362}, 4: {'text': 'Mesensei', 'tag': 'ORG', 'span': (607, 615), 'Confidence': 0.8656133413314819}, 5: {'text': 'Kodan', 'tag': 'PER', 'sp...</td>\n",
       "    </tr>\n",
       "  </tbody>\n",
       "</table>\n",
       "<p>100 rows × 4 columns</p>\n",
       "</div>"
      ],
      "text/plain": [
       "                                         docid  \\\n",
       "0   doc://712c0906-db60-4703-8152-f2c8a746bf21   \n",
       "1   doc://142fbdea-86df-43dd-89b7-eeb18c521691   \n",
       "2   doc://a7096575-1745-483c-a3f5-deb681cdcea2   \n",
       "3   doc://8fd4b3a0-a6e2-4763-81ff-5dc72d645ec6   \n",
       "4   doc://9e3e6dd6-2029-4009-8ccc-a4d34dabc8fe   \n",
       "..                                         ...   \n",
       "95  doc://aeaacad5-3a50-4b65-9073-a30e98365d8d   \n",
       "96  doc://71a33289-a2ad-407c-acb7-4e20decf2bb9   \n",
       "97  doc://e35aa380-a2b5-4e17-9939-56ab28359527   \n",
       "98  doc://4a42d3ce-4b5b-4a69-a4e1-a11b056048ac   \n",
       "99  doc://140f45db-fab9-409e-8a46-d90fdc635325   \n",
       "\n",
       "                                                                                         title  \\\n",
       "0                                                                          Mental Note Vol. 24   \n",
       "1                                                                    Your Brain On Coronavirus   \n",
       "2                                                                               Mind Your Nose   \n",
       "3                                                                     The 4 Purposes of Dreams   \n",
       "4                                                             Surviving a Rod Through the Head   \n",
       "..                                                                                         ...   \n",
       "95                            “Holy”: Jamila Woods’s HEAVN Finds Spiritual Freedom in Solitude   \n",
       "96                                 How Google and Its Geeks Nudge Each Other to Sustainability   \n",
       "97                                           J.K. Rowling’s Advice For Writers With Big Dreams   \n",
       "98                                      F. Scott Fitzgerald on How to Write Masterful Dialogue   \n",
       "99  How we helped streamline a mobile solutions company’s processes in a business-friendly way   \n",
       "\n",
       "                                                                                                                                                                                                                                                                                                                                                                                                                                                                                                                  spacy  \\\n",
       "0   {0: {'text': 'Josh Riemer', 'tag': 'PERSON', 'span': (9, 20)}, 1: {'text': 'Christmas', 'tag': 'DATE', 'span': (40, 49)}, 2: {'text': 'Happy Holidays', 'tag': 'ORG', 'span': (54, 68)}, 3: {'text': 'ten', 'tag': 'CARDINAL', 'span': (403, 406)}, 4: {'text': 'last week', 'tag': 'DATE', 'span': (431, 440)}, 5: {'text': 'one', 'tag': 'CARDINAL', 'span': (1431, 1434)}, 6: {'text': 'weeks', 'tag': 'DATE', 'span': (1639, 1644)}, 7: {'text': 'the day', 'tag': 'DATE', 'span': (1646, 1653)}, 8: {'text'...   \n",
       "1   {0: {'text': 'Pexels', 'tag': 'GPE', 'span': (126, 132)}, 1: {'text': 'months', 'tag': 'DATE', 'span': (230, 236)}, 2: {'text': 'Zoom', 'tag': 'WORK_OF_ART', 'span': (416, 420)}, 3: {'text': 'first', 'tag': 'ORDINAL', 'span': (455, 460)}, 4: {'text': 'ACE2', 'tag': 'ORG', 'span': (887, 891)}, 5: {'text': 'ACE2', 'tag': 'ORG', 'span': (1002, 1006)}, 6: {'text': 'many months', 'tag': 'DATE', 'span': (1304, 1315)}, 7: {'text': 'millions', 'tag': 'CARDINAL', 'span': (1658, 1666)}, 8: {'text': 'm...   \n",
       "2   {0: {'text': 'six weeks', 'tag': 'DATE', 'span': (60, 69)}, 1: {'text': 'Ann-Sophie Barwich', 'tag': 'ORG', 'span': (96, 114)}, 2: {'text': 'One', 'tag': 'CARDINAL', 'span': (892, 895)}, 3: {'text': 'every three to four weeks', 'tag': 'DATE', 'span': (1029, 1054)}, 4: {'text': 'first', 'tag': 'ORDINAL', 'span': (1391, 1396)}, 5: {'text': '70', 'tag': 'DATE', 'span': (1534, 1536)}, 6: {'text': 'Johannes Frasnelli', 'tag': 'ORG', 'span': (2317, 2335)}, 7: {'text': 'the University of Quebec', '...   \n",
       "3                                                                                                                                                                                                                                                                                                                                                                                                                                                                                                                    {}   \n",
       "4   {0: {'text': 'Phineas Gage', 'tag': 'ORG', 'span': (34, 46)}, 1: {'text': 'Cherry', 'tag': 'PERSON', 'span': (355, 361)}, 2: {'text': '1', 'tag': 'CARDINAL', 'span': (368, 369)}, 3: {'text': 'Phineas Gage', 'tag': 'ORG', 'span': (521, 533)}, 4: {'text': 'Phineas Gage', 'tag': 'ORG', 'span': (585, 597)}, 5: {'text': '25 years old', 'tag': 'DATE', 'span': (599, 611)}, 6: {'text': 'Vermont', 'tag': 'GPE', 'span': (638, 645)}, 7: {'text': 'One day', 'tag': 'DATE', 'span': (647, 654)}, 8: {'text'...   \n",
       "..                                                                                                                                                                                                                                                                                                                                                                                                                                                                                                                  ...   \n",
       "95  {0: {'text': 'Jamila Woods', 'tag': 'PERSON', 'span': (627, 639)}, 1: {'text': 'HEAVN', 'tag': 'ORG', 'span': (733, 738)}, 2: {'text': 'Jamila Woods', 'tag': 'PERSON', 'span': (845, 857)}, 3: {'text': 'Jamila Woods', 'tag': 'PERSON', 'span': (895, 907)}, 4: {'text': 'Jamila', 'tag': 'GPE', 'span': (1053, 1059)}, 5: {'text': '2015', 'tag': 'DATE', 'span': (1078, 1082)}, 6: {'text': 'The Social Experiment', 'tag': 'ORG', 'span': (1112, 1133)}, 7: {'text': 'Sunday Candy', 'tag': 'WORK_OF_ART', ...   \n",
       "96  {0: {'text': 'Google', 'tag': 'ORG', 'span': (29, 35)}, 1: {'text': 'Silicon Valley', 'tag': 'LOC', 'span': (151, 165)}, 2: {'text': 'Googlers', 'tag': 'WORK_OF_ART', 'span': (383, 391)}, 3: {'text': 'Google', 'tag': 'ORG', 'span': (435, 441)}, 4: {'text': '2010', 'tag': 'DATE', 'span': (584, 588)}, 5: {'text': '20', 'tag': 'CARDINAL', 'span': (613, 615)}, 6: {'text': 'roughly 2.6 gigawatts', 'tag': 'QUANTITY', 'span': (639, 660)}, 7: {'text': '1.2 million', 'tag': 'CARDINAL', 'span': (687, ...   \n",
       "97  {0: {'text': 'J.K. Rowling’s Advice For Writers With Big Dreams', 'tag': 'ORG', 'span': (0, 49)}, 1: {'text': 'Rae Tian', 'tag': 'PERSON', 'span': (111, 119)}, 2: {'text': 'Unsplash\n",
       "\n",
       "J.K. Rowling', 'tag': 'ORG', 'span': (123, 145)}, 3: {'text': 'Harry Potter', 'tag': 'PERSON', 'span': (314, 326)}, 4: {'text': 'one', 'tag': 'CARDINAL', 'span': (696, 699)}, 5: {'text': 'British', 'tag': 'NORP', 'span': (760, 767)}, 6: {'text': 'first', 'tag': 'ORDINAL', 'span': (858, 863)}, 7: {'text': 'first'...   \n",
       "98  {0: {'text': 'September 22', 'tag': 'DATE', 'span': (0, 12)}, 1: {'text': 'the beginning of autumn', 'tag': 'DATE', 'span': (20, 43)}, 2: {'text': 'The Great Gatsby', 'tag': 'FAC', 'span': (93, 109)}, 3: {'text': 'Instagram', 'tag': 'ORG', 'span': (347, 356)}, 4: {'text': '107', 'tag': 'CARDINAL', 'span': (476, 479)}, 5: {'text': 'The Great Gatsby', 'tag': 'FAC', 'span': (497, 513)}, 6: {'text': 'Jordan', 'tag': 'PERSON', 'span': (558, 564)}, 7: {'text': 'Gatsby', 'tag': 'PERSON', 'span': (5...   \n",
       "99  {0: {'text': 'Kodan', 'tag': 'GPE', 'span': (119, 124)}, 1: {'text': 'Mesensei', 'tag': 'PERSON', 'span': (387, 395)}, 2: {'text': 'Mesensei', 'tag': 'EVENT', 'span': (433, 441)}, 3: {'text': 'Mesensei', 'tag': 'EVENT', 'span': (607, 615)}, 4: {'text': 'Kodan', 'tag': 'GPE', 'span': (881, 886)}, 5: {'text': 'Mesensei', 'tag': 'PERSON', 'span': (1017, 1025)}, 6: {'text': 'Mesensei', 'tag': 'PERSON', 'span': (1531, 1539)}, 7: {'text': 'the beginning of 2019', 'tag': 'DATE', 'span': (1648, 1669...   \n",
       "\n",
       "                                                                                                                                                                                                                                                                                                                                                                                                                                                                                                                  flair  \n",
       "0   {0: {'text': 'Josh Riemer', 'tag': 'PER', 'span': (9, 20), 'Confidence': 0.993099182844162}, 1: {'text': 'Unsplash  Merry Christmas', 'tag': 'MISC', 'span': (24, 49), 'Confidence': 0.7762616078058878}, 2: {'text': 'Happy Holidays', 'tag': 'MISC', 'span': (54, 68), 'Confidence': 0.542737603187561}, 3: {'text': 'Crappy Christmas', 'tag': 'MISC', 'span': (1915, 1931), 'Confidence': 0.7515084147453308}, 4: {'text': 'Merry Christmas', 'tag': 'MISC', 'span': (4934, 4949), 'Confidence': 0.702271133...  \n",
       "1   {0: {'text': 'Zoom', 'tag': 'MISC', 'span': (416, 420), 'Confidence': 0.7776151299476624}, 1: {'text': 'COVID-19', 'tag': 'MISC', 'span': (2019, 2027), 'Confidence': 0.5918000340461731}, 2: {'text': 'New England Journal of Medicine', 'tag': 'ORG', 'span': (2949, 2980), 'Confidence': 0.8916181445121765}, 3: {'text': 'COVID-19', 'tag': 'MISC', 'span': (3106, 3114), 'Confidence': 0.6712064743041992}, 4: {'text': 'Jonathan Rados', 'tag': 'PER', 'span': (4468, 4482), 'Confidence': 0.9730952680110...  \n",
       "2   {0: {'text': 'Johannes Frasnelli', 'tag': 'PER', 'span': (2317, 2335), 'Confidence': 0.9991422295570374}, 1: {'text': 'University of Quebec', 'tag': 'ORG', 'span': (2367, 2387), 'Confidence': 0.9919206301371256}, 2: {'text': 'Trois-Rivières', 'tag': 'LOC', 'span': (2391, 2405), 'Confidence': 0.9990032315254211}, 3: {'text': 'Frasnelli', 'tag': 'PER', 'span': (2672, 2681), 'Confidence': 0.9974936246871948}, 4: {'text': 'Frasnelli', 'tag': 'ORG', 'span': (3028, 3037), 'Confidence': 0.593892514...  \n",
       "3                                                                                                                                                                                                                                                                                                                                                                                                                                                                                                                    {}  \n",
       "4   {0: {'text': 'Phineas Gage', 'tag': 'PER', 'span': (34, 46), 'Confidence': 0.9654072523117065}, 1: {'text': 'Cherry', 'tag': 'PER', 'span': (355, 361), 'Confidence': 0.9214642643928528}, 2: {'text': 'Phineas Gage', 'tag': 'PER', 'span': (521, 533), 'Confidence': 0.9703349173069}, 3: {'text': 'Phineas Gage', 'tag': 'PER', 'span': (585, 597), 'Confidence': 0.9975079596042633}, 4: {'text': 'Vermont', 'tag': 'LOC', 'span': (638, 645), 'Confidence': 0.9995617270469666}, 5: {'text': 'Cherry', 'tag...  \n",
       "..                                                                                                                                                                                                                                                                                                                                                                                                                                                                                                                  ...  \n",
       "95  {0: {'text': 'Jamila Woods', 'tag': 'PER', 'span': (627, 639), 'Confidence': 0.9759255051612854}, 1: {'text': 'HEAVN', 'tag': 'MISC', 'span': (733, 738), 'Confidence': 0.6951485276222229}, 2: {'text': 'Jamila Woods', 'tag': 'PER', 'span': (845, 857), 'Confidence': 0.9878586530685425}, 3: {'text': 'Jamila Woods', 'tag': 'PER', 'span': (895, 907), 'Confidence': 0.9982866942882538}, 4: {'text': 'Jamila', 'tag': 'PER', 'span': (1053, 1059), 'Confidence': 0.999190628528595}, 5: {'text': '2015’s S...  \n",
       "96  {0: {'text': 'Google', 'tag': 'ORG', 'span': (29, 35), 'Confidence': 0.9922983050346375}, 1: {'text': 'Silicon Valley', 'tag': 'LOC', 'span': (151, 165), 'Confidence': 0.8750839531421661}, 2: {'text': 'Google', 'tag': 'ORG', 'span': (435, 441), 'Confidence': 0.6305004358291626}, 3: {'text': 'Google', 'tag': 'ORG', 'span': (719, 725), 'Confidence': 0.9983640313148499}, 4: {'text': 'Google', 'tag': 'ORG', 'span': (922, 928), 'Confidence': 0.9812931418418884}, 5: {'text': 'Google', 'tag': 'ORG'...  \n",
       "97  {0: {'text': 'Rae Tian', 'tag': 'PER', 'span': (111, 119), 'Confidence': 0.94908007979393}, 1: {'text': 'Unsplash  J.K', 'tag': 'PER', 'span': (123, 136), 'Confidence': 0.40452542901039124}, 2: {'text': 'Rowling', 'tag': 'PER', 'span': (138, 145), 'Confidence': 0.6746373772621155}, 3: {'text': 'Harry Potter', 'tag': 'PER', 'span': (314, 326), 'Confidence': 0.9656739830970764}, 4: {'text': 'Rubbish Out  Rowling', 'tag': 'MISC', 'span': (736, 756), 'Confidence': 0.8954297502835592}, 5: {'text'...  \n",
       "98  {0: {'text': 'The Great Gatsby', 'tag': 'MISC', 'span': (93, 109), 'Confidence': 0.825523296991984}, 1: {'text': 'Life', 'tag': 'PER', 'span': (113, 117), 'Confidence': 0.395154744386673}, 2: {'text': 'Instagram', 'tag': 'MISC', 'span': (347, 356), 'Confidence': 0.8331667184829712}, 3: {'text': 'The Great Gatsby', 'tag': 'MISC', 'span': (497, 513), 'Confidence': 0.958313524723053}, 4: {'text': 'Jordan', 'tag': 'PER', 'span': (558, 564), 'Confidence': 0.9964123368263245}, 5: {'text': 'Gatsby'...  \n",
       "99  {0: {'text': 'Mesensei', 'tag': 'ORG', 'span': (0, 8), 'Confidence': 0.940836489200592}, 1: {'text': 'Kodan', 'tag': 'ORG', 'span': (119, 124), 'Confidence': 0.8538553714752197}, 2: {'text': 'Mesensei', 'tag': 'ORG', 'span': (387, 395), 'Confidence': 0.6263004541397095}, 3: {'text': 'Mesensei', 'tag': 'ORG', 'span': (433, 441), 'Confidence': 0.5203522443771362}, 4: {'text': 'Mesensei', 'tag': 'ORG', 'span': (607, 615), 'Confidence': 0.8656133413314819}, 5: {'text': 'Kodan', 'tag': 'PER', 'sp...  \n",
       "\n",
       "[100 rows x 4 columns]"
      ]
     },
     "execution_count": 132,
     "metadata": {},
     "output_type": "execute_result"
    }
   ],
   "source": [
    "df[['docid', 'title', 'spacy', 'flair']]"
   ]
  },
  {
   "cell_type": "code",
   "execution_count": 135,
   "id": "983b7904",
   "metadata": {},
   "outputs": [
    {
     "name": "stderr",
     "output_type": "stream",
     "text": [
      "C:\\Users\\Danny\\AppData\\Local\\Temp\\ipykernel_14096\\33085565.py:3: FutureWarning: The default dtype for empty Series will be 'object' instead of 'float64' in a future version. Specify a dtype explicitly to silence this warning.\n",
      "  df2 = df[method].apply(pd.Series)\n",
      "C:\\Users\\Danny\\AppData\\Local\\Temp\\ipykernel_14096\\33085565.py:3: FutureWarning: The default dtype for empty Series will be 'object' instead of 'float64' in a future version. Specify a dtype explicitly to silence this warning.\n",
      "  df2 = df[method].apply(pd.Series)\n",
      "C:\\Users\\Danny\\AppData\\Local\\Temp\\ipykernel_14096\\33085565.py:3: FutureWarning: The default dtype for empty Series will be 'object' instead of 'float64' in a future version. Specify a dtype explicitly to silence this warning.\n",
      "  df2 = df[method].apply(pd.Series)\n",
      "C:\\Users\\Danny\\AppData\\Local\\Temp\\ipykernel_14096\\33085565.py:3: FutureWarning: The default dtype for empty Series will be 'object' instead of 'float64' in a future version. Specify a dtype explicitly to silence this warning.\n",
      "  df2 = df[method].apply(pd.Series)\n",
      "C:\\Users\\Danny\\AppData\\Local\\Temp\\ipykernel_14096\\33085565.py:3: FutureWarning: The default dtype for empty Series will be 'object' instead of 'float64' in a future version. Specify a dtype explicitly to silence this warning.\n",
      "  df2 = df[method].apply(pd.Series)\n",
      "C:\\Users\\Danny\\AppData\\Local\\Temp\\ipykernel_14096\\33085565.py:3: FutureWarning: The default dtype for empty Series will be 'object' instead of 'float64' in a future version. Specify a dtype explicitly to silence this warning.\n",
      "  df2 = df[method].apply(pd.Series)\n",
      "C:\\Users\\Danny\\AppData\\Local\\Temp\\ipykernel_14096\\33085565.py:3: FutureWarning: The default dtype for empty Series will be 'object' instead of 'float64' in a future version. Specify a dtype explicitly to silence this warning.\n",
      "  df2 = df[method].apply(pd.Series)\n",
      "C:\\Users\\Danny\\AppData\\Local\\Temp\\ipykernel_14096\\33085565.py:3: FutureWarning: The default dtype for empty Series will be 'object' instead of 'float64' in a future version. Specify a dtype explicitly to silence this warning.\n",
      "  df2 = df[method].apply(pd.Series)\n"
     ]
    }
   ],
   "source": [
    "ner_df = pd.DataFrame()\n",
    "for method in ['spacy', 'flair']:\n",
    "    df2 = df[method].apply(pd.Series)\n",
    "    df2.index=df['docid']\n",
    "\n",
    "    temp_df = pd.DataFrame()\n",
    "    for column in df2.columns:\n",
    "        df2[method] = df2[column]\n",
    "        temp_df = pd.concat([temp_df, df2[[method]]])\n",
    "    temp_df = temp_df.dropna()\n",
    "    \n",
    "    cols = ['text', 'tag', 'span']\n",
    "    if method == 'flair':\n",
    "        cols.append('confidence')\n",
    "    \n",
    "    temp_df[cols] = temp_df[method].apply(pd.Series)\n",
    "\n",
    "    temp_df['Method'] = method\n",
    "    temp_df = temp_df.drop(columns=[method])\n",
    "    \n",
    "    ner_df = pd.concat([ner_df, temp_df]) \n",
    "    \n",
    "    del df2\n",
    "    del temp_df\n",
    "ner_df = ner_df.reset_index()"
   ]
  },
  {
   "cell_type": "code",
   "execution_count": 140,
   "id": "8595d139",
   "metadata": {},
   "outputs": [],
   "source": [
    "ner_df[['text', 'tag', 'span']].value_counts().to_csv(\"overlapping_tags.csv\")"
   ]
  },
  {
   "cell_type": "code",
   "execution_count": 134,
   "id": "2b9b1624",
   "metadata": {},
   "outputs": [
    {
     "data": {
      "text/html": [
       "<div>\n",
       "<style scoped>\n",
       "    .dataframe tbody tr th:only-of-type {\n",
       "        vertical-align: middle;\n",
       "    }\n",
       "\n",
       "    .dataframe tbody tr th {\n",
       "        vertical-align: top;\n",
       "    }\n",
       "\n",
       "    .dataframe thead th {\n",
       "        text-align: right;\n",
       "    }\n",
       "</style>\n",
       "<table border=\"1\" class=\"dataframe\">\n",
       "  <thead>\n",
       "    <tr style=\"text-align: right;\">\n",
       "      <th></th>\n",
       "      <th>text</th>\n",
       "      <th>tag</th>\n",
       "      <th>span</th>\n",
       "      <th>Method</th>\n",
       "      <th>confidence</th>\n",
       "    </tr>\n",
       "    <tr>\n",
       "      <th>docid</th>\n",
       "      <th></th>\n",
       "      <th></th>\n",
       "      <th></th>\n",
       "      <th></th>\n",
       "      <th></th>\n",
       "    </tr>\n",
       "  </thead>\n",
       "  <tbody>\n",
       "    <tr>\n",
       "      <th>doc://712c0906-db60-4703-8152-f2c8a746bf21</th>\n",
       "      <td>Josh Riemer</td>\n",
       "      <td>PERSON</td>\n",
       "      <td>(9, 20)</td>\n",
       "      <td>spacy</td>\n",
       "      <td>NaN</td>\n",
       "    </tr>\n",
       "    <tr>\n",
       "      <th>doc://142fbdea-86df-43dd-89b7-eeb18c521691</th>\n",
       "      <td>Pexels</td>\n",
       "      <td>GPE</td>\n",
       "      <td>(126, 132)</td>\n",
       "      <td>spacy</td>\n",
       "      <td>NaN</td>\n",
       "    </tr>\n",
       "    <tr>\n",
       "      <th>doc://a7096575-1745-483c-a3f5-deb681cdcea2</th>\n",
       "      <td>six weeks</td>\n",
       "      <td>DATE</td>\n",
       "      <td>(60, 69)</td>\n",
       "      <td>spacy</td>\n",
       "      <td>NaN</td>\n",
       "    </tr>\n",
       "    <tr>\n",
       "      <th>doc://9e3e6dd6-2029-4009-8ccc-a4d34dabc8fe</th>\n",
       "      <td>Phineas Gage</td>\n",
       "      <td>ORG</td>\n",
       "      <td>(34, 46)</td>\n",
       "      <td>spacy</td>\n",
       "      <td>NaN</td>\n",
       "    </tr>\n",
       "    <tr>\n",
       "      <th>doc://2b61bf25-cbb3-4978-bc35-2cfbf28b1e12</th>\n",
       "      <td>Canva Pro\\n\\n“</td>\n",
       "      <td>PERSON</td>\n",
       "      <td>(160, 172)</td>\n",
       "      <td>spacy</td>\n",
       "      <td>NaN</td>\n",
       "    </tr>\n",
       "    <tr>\n",
       "      <th>...</th>\n",
       "      <td>...</td>\n",
       "      <td>...</td>\n",
       "      <td>...</td>\n",
       "      <td>...</td>\n",
       "      <td>...</td>\n",
       "    </tr>\n",
       "    <tr>\n",
       "      <th>doc://f3216826-80e9-4719-9523-13539761da6b</th>\n",
       "      <td>AI</td>\n",
       "      <td>MISC</td>\n",
       "      <td>(13802, 13804)</td>\n",
       "      <td>flair</td>\n",
       "      <td>0.547456</td>\n",
       "    </tr>\n",
       "    <tr>\n",
       "      <th>doc://f3216826-80e9-4719-9523-13539761da6b</th>\n",
       "      <td>AI</td>\n",
       "      <td>ORG</td>\n",
       "      <td>(13905, 13907)</td>\n",
       "      <td>flair</td>\n",
       "      <td>0.420809</td>\n",
       "    </tr>\n",
       "    <tr>\n",
       "      <th>doc://f3216826-80e9-4719-9523-13539761da6b</th>\n",
       "      <td>Deloitte</td>\n",
       "      <td>ORG</td>\n",
       "      <td>(13998, 14006)</td>\n",
       "      <td>flair</td>\n",
       "      <td>0.921638</td>\n",
       "    </tr>\n",
       "    <tr>\n",
       "      <th>doc://f3216826-80e9-4719-9523-13539761da6b</th>\n",
       "      <td>Coronaviruses</td>\n",
       "      <td>MISC</td>\n",
       "      <td>(14355, 14368)</td>\n",
       "      <td>flair</td>\n",
       "      <td>0.594449</td>\n",
       "    </tr>\n",
       "    <tr>\n",
       "      <th>doc://f3216826-80e9-4719-9523-13539761da6b</th>\n",
       "      <td>David Yakobovitch</td>\n",
       "      <td>ORG</td>\n",
       "      <td>(14419, 14436)</td>\n",
       "      <td>flair</td>\n",
       "      <td>0.595486</td>\n",
       "    </tr>\n",
       "  </tbody>\n",
       "</table>\n",
       "<p>4814 rows × 5 columns</p>\n",
       "</div>"
      ],
      "text/plain": [
       "                                                         text     tag  \\\n",
       "docid                                                                   \n",
       "doc://712c0906-db60-4703-8152-f2c8a746bf21        Josh Riemer  PERSON   \n",
       "doc://142fbdea-86df-43dd-89b7-eeb18c521691             Pexels     GPE   \n",
       "doc://a7096575-1745-483c-a3f5-deb681cdcea2          six weeks    DATE   \n",
       "doc://9e3e6dd6-2029-4009-8ccc-a4d34dabc8fe       Phineas Gage     ORG   \n",
       "doc://2b61bf25-cbb3-4978-bc35-2cfbf28b1e12     Canva Pro\\n\\n“  PERSON   \n",
       "...                                                       ...     ...   \n",
       "doc://f3216826-80e9-4719-9523-13539761da6b                 AI    MISC   \n",
       "doc://f3216826-80e9-4719-9523-13539761da6b                 AI     ORG   \n",
       "doc://f3216826-80e9-4719-9523-13539761da6b           Deloitte     ORG   \n",
       "doc://f3216826-80e9-4719-9523-13539761da6b      Coronaviruses    MISC   \n",
       "doc://f3216826-80e9-4719-9523-13539761da6b  David Yakobovitch     ORG   \n",
       "\n",
       "                                                      span Method  confidence  \n",
       "docid                                                                          \n",
       "doc://712c0906-db60-4703-8152-f2c8a746bf21         (9, 20)  spacy         NaN  \n",
       "doc://142fbdea-86df-43dd-89b7-eeb18c521691      (126, 132)  spacy         NaN  \n",
       "doc://a7096575-1745-483c-a3f5-deb681cdcea2        (60, 69)  spacy         NaN  \n",
       "doc://9e3e6dd6-2029-4009-8ccc-a4d34dabc8fe        (34, 46)  spacy         NaN  \n",
       "doc://2b61bf25-cbb3-4978-bc35-2cfbf28b1e12      (160, 172)  spacy         NaN  \n",
       "...                                                    ...    ...         ...  \n",
       "doc://f3216826-80e9-4719-9523-13539761da6b  (13802, 13804)  flair    0.547456  \n",
       "doc://f3216826-80e9-4719-9523-13539761da6b  (13905, 13907)  flair    0.420809  \n",
       "doc://f3216826-80e9-4719-9523-13539761da6b  (13998, 14006)  flair    0.921638  \n",
       "doc://f3216826-80e9-4719-9523-13539761da6b  (14355, 14368)  flair    0.594449  \n",
       "doc://f3216826-80e9-4719-9523-13539761da6b  (14419, 14436)  flair    0.595486  \n",
       "\n",
       "[4814 rows x 5 columns]"
      ]
     },
     "execution_count": 134,
     "metadata": {},
     "output_type": "execute_result"
    }
   ],
   "source": [
    "ner_df"
   ]
  },
  {
   "cell_type": "code",
   "execution_count": 130,
   "id": "abacfd44",
   "metadata": {},
   "outputs": [
    {
     "data": {
      "text/plain": [
       "0.43788948899044455"
      ]
     },
     "execution_count": 130,
     "metadata": {},
     "output_type": "execute_result"
    }
   ],
   "source": [
    "ner_df['text'].nunique()/len(ner_df)"
   ]
  },
  {
   "cell_type": "code",
   "execution_count": null,
   "id": "e276b23f",
   "metadata": {},
   "outputs": [],
   "source": []
  }
 ],
 "metadata": {
  "kernelspec": {
   "display_name": "nlp_swifter",
   "language": "python",
   "name": "nlp_swifter"
  },
  "language_info": {
   "codemirror_mode": {
    "name": "ipython",
    "version": 3
   },
   "file_extension": ".py",
   "mimetype": "text/x-python",
   "name": "python",
   "nbconvert_exporter": "python",
   "pygments_lexer": "ipython3",
   "version": "3.10.6"
  }
 },
 "nbformat": 4,
 "nbformat_minor": 5
}
